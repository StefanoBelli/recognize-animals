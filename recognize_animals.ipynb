{
 "cells": [
  {
   "cell_type": "markdown",
   "id": "a6d10dbd-331a-4f42-b3d3-67e516ac6900",
   "metadata": {},
   "source": [
    "# Imports"
   ]
  },
  {
   "cell_type": "code",
   "execution_count": 94,
   "id": "df9294fa-115d-4dba-a341-8fc4ea54b769",
   "metadata": {},
   "outputs": [],
   "source": [
    "import os\n",
    "import zipfile\n",
    "import time\n",
    "from keras.utils import load_img as keras_load_img\n",
    "from keras.utils import img_to_array as keras_img_to_array"
   ]
  },
  {
   "cell_type": "markdown",
   "id": "00062720-ead3-4c4a-a63d-56476a9f5a2d",
   "metadata": {},
   "source": [
    "# Estrazione del dataset"
   ]
  },
  {
   "cell_type": "code",
   "execution_count": 63,
   "id": "d9c5562d-8c33-4c18-866e-4b31b313fcc1",
   "metadata": {},
   "outputs": [],
   "source": [
    "DATASET_ZIP_PATH=\"animals.zip\"\n",
    "DATASET_IMGS_DESTDIR=\"./\"\n",
    "\n",
    "if not os.path.isdir(DATASET_IMGS_DESTDIR + \"animals\"):\n",
    "    if not os.path.isfile(DATASET_ZIP_PATH):\n",
    "        raise FileNotFoundError(f\" !! Unable to continue, could not find zipped dataset to extract dataset from: {DATASET_ZIP_PATH}\")\n",
    "\n",
    "    with zipfile.ZipFile(DATASET_ZIP_PATH, mode=\"r\") as animalz:\n",
    "        animalz.extractall(DATASET_IMGS_DESTDIR)"
   ]
  },
  {
   "cell_type": "markdown",
   "id": "82f0eb58-b08d-421f-b20a-252f620b000f",
   "metadata": {},
   "source": [
    "# Caricamento del dataset"
   ]
  },
  {
   "cell_type": "code",
   "execution_count": 71,
   "id": "c1761e37-2906-4c50-879d-fd2794d7c96c",
   "metadata": {},
   "outputs": [],
   "source": [
    "def load_all(target_size):\n",
    "    xt = []\n",
    "    print(\"loading all images from the dataset... please wait\")\n",
    "    start = time.time()\n",
    "    for root, dirs, files in os.walk(DATASET_IMGS_DESTDIR + \"animals\"):\n",
    "        for file in files:\n",
    "            category = os.path.basename(root)\n",
    "            imgpath = DATASET_IMGS_DESTDIR + \"animals/\" + category + \"/\" + file\n",
    "            imgdata = keras_load_img(imgpath, target_size=target_size)\n",
    "            xt.append((imgpath, imgdata, category))\n",
    "    end = time.time()\n",
    "    print(f\"done, it took {end - start:.1f} seconds\")\n",
    "    return xt"
   ]
  },
  {
   "cell_type": "code",
   "execution_count": 88,
   "id": "0c030e14-46fa-4412-a60c-2c91409e28b1",
   "metadata": {},
   "outputs": [
    {
     "name": "stdout",
     "output_type": "stream",
     "text": [
      "loading all images from the dataset... please wait\n",
      "done, it took 26.0 seconds\n"
     ]
    }
   ],
   "source": [
    "dataset = load_all((224,224,3))"
   ]
  },
  {
   "cell_type": "markdown",
   "id": "b07e14f5-c23b-4ee2-b3a7-740419caa8aa",
   "metadata": {},
   "source": []
  }
 ],
 "metadata": {
  "kernelspec": {
   "display_name": "Python 3 (ipykernel)",
   "language": "python",
   "name": "python3"
  },
  "language_info": {
   "codemirror_mode": {
    "name": "ipython",
    "version": 3
   },
   "file_extension": ".py",
   "mimetype": "text/x-python",
   "name": "python",
   "nbconvert_exporter": "python",
   "pygments_lexer": "ipython3",
   "version": "3.12.2"
  }
 },
 "nbformat": 4,
 "nbformat_minor": 5
}
