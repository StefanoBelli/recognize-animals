{
 "cells": [
  {
   "cell_type": "markdown",
   "id": "a6d10dbd-331a-4f42-b3d3-67e516ac6900",
   "metadata": {
    "id": "a6d10dbd-331a-4f42-b3d3-67e516ac6900"
   },
   "source": [
    "# Imports"
   ]
  },
  {
   "cell_type": "code",
   "execution_count": 43,
   "id": "df9294fa-115d-4dba-a341-8fc4ea54b769",
   "metadata": {
    "id": "df9294fa-115d-4dba-a341-8fc4ea54b769"
   },
   "outputs": [],
   "source": [
    "import os\n",
    "import zipfile\n",
    "import keras\n",
    "import matplotlib.pyplot as plt\n",
    "import numpy as np\n",
    "import tensorflow as tf"
   ]
  },
  {
   "cell_type": "markdown",
   "id": "00062720-ead3-4c4a-a63d-56476a9f5a2d",
   "metadata": {
    "id": "00062720-ead3-4c4a-a63d-56476a9f5a2d"
   },
   "source": [
    "# Estrazione del dataset"
   ]
  },
  {
   "cell_type": "code",
   "execution_count": 44,
   "id": "d9c5562d-8c33-4c18-866e-4b31b313fcc1",
   "metadata": {
    "id": "d9c5562d-8c33-4c18-866e-4b31b313fcc1"
   },
   "outputs": [],
   "source": [
    "DATASET_ZIP_PATH=\"animals.zip\"\n",
    "DATASET_IMGS_DESTDIR=\"./\"\n",
    "\n",
    "if not os.path.isdir(DATASET_IMGS_DESTDIR + \"animals\"):\n",
    "    if not os.path.isfile(DATASET_ZIP_PATH):\n",
    "        raise FileNotFoundError(f\" !! Unable to continue, could not find zipped dataset to extract dataset from: {DATASET_ZIP_PATH}\")\n",
    "\n",
    "    with zipfile.ZipFile(DATASET_ZIP_PATH, mode=\"r\") as animalz:\n",
    "        animalz.extractall(DATASET_IMGS_DESTDIR)"
   ]
  },
  {
   "cell_type": "markdown",
   "id": "82f0eb58-b08d-421f-b20a-252f620b000f",
   "metadata": {
    "id": "82f0eb58-b08d-421f-b20a-252f620b000f"
   },
   "source": [
    "# Caricamento del dataset e split"
   ]
  },
  {
   "cell_type": "code",
   "execution_count": 45,
   "id": "7a9aa959-c7c4-463f-8e7d-feb5e44c17a8",
   "metadata": {
    "colab": {
     "base_uri": "https://localhost:8080/"
    },
    "id": "7a9aa959-c7c4-463f-8e7d-feb5e44c17a8",
    "outputId": "877ea102-b15f-49eb-aebb-c56595f7e03b"
   },
   "outputs": [
    {
     "name": "stdout",
     "output_type": "stream",
     "text": [
      "Found 26128 files belonging to 10 classes.\n",
      "Using 22209 files for training.\n",
      "Using 3919 files for validation.\n"
     ]
    }
   ],
   "source": [
    "(training_set, testing_set) = keras.utils.image_dataset_from_directory(\n",
    "    DATASET_IMGS_DESTDIR + \"animals\",\n",
    "    subset=\"both\",\n",
    "    seed=1234,\n",
    "    validation_split=0.15,\n",
    "    image_size=(224,224),\n",
    "    label_mode=\"categorical\",\n",
    "    batch_size=16)"
   ]
  },
  {
   "cell_type": "code",
   "execution_count": 46,
   "id": "cad36faf-8bb2-4f92-83e4-2e828af6f788",
   "metadata": {
    "id": "cad36faf-8bb2-4f92-83e4-2e828af6f788"
   },
   "outputs": [],
   "source": [
    "train_size = int(0.85 * len(training_set))\n",
    "val_size = int(0.15 * len(training_set))\n",
    "train_dataset = training_set.take(train_size)\n",
    "validation_dataset = training_set.skip(train_size).take(val_size)"
   ]
  },
  {
   "cell_type": "code",
   "execution_count": 47,
   "id": "577a036f-114f-419b-83f4-f0be57c341e2",
   "metadata": {
    "colab": {
     "base_uri": "https://localhost:8080/"
    },
    "id": "577a036f-114f-419b-83f4-f0be57c341e2",
    "outputId": "8edf6330-c96b-4133-94d1-8cc0ad4c2d0b"
   },
   "outputs": [
    {
     "name": "stdout",
     "output_type": "stream",
     "text": [
      "Train batches: 1180\n",
      "Validation batches: 208\n"
     ]
    }
   ],
   "source": [
    "print(\"Train batches:\", len(train_dataset))\n",
    "print(\"Validation batches:\", len(validation_dataset))"
   ]
  },
  {
   "cell_type": "markdown",
   "id": "4530534f-0e82-41d2-820e-e151fcfd40da",
   "metadata": {
    "id": "4530534f-0e82-41d2-820e-e151fcfd40da"
   },
   "source": [
    "# Costruzione del modello"
   ]
  },
  {
   "cell_type": "code",
   "execution_count": 125,
   "id": "8f0c187b-f74b-4854-98ad-6604f8fd2d88",
   "metadata": {
    "id": "8f0c187b-f74b-4854-98ad-6604f8fd2d88"
   },
   "outputs": [],
   "source": [
    "def build_model(your_base_model, input_shape=(224,224,3)):\n",
    "    final_layers = 0\n",
    "\n",
    "    def alay(x):\n",
    "        nonlocal final_layers\n",
    "        final_layers += 1\n",
    "        return x\n",
    "\n",
    "    seq_model = keras.Sequential([\n",
    "        keras.Input(shape=input_shape),\n",
    "        keras.layers.Rescaling(scale=1 / 255),\n",
    "        your_base_model(include_top=False, input_shape=input_shape),\n",
    "        alay(keras.layers.GlobalAveragePooling2D()),\n",
    "        alay(keras.layers.Dropout(0.3)),\n",
    "        alay(keras.layers.Dense(\n",
    "            10,\n",
    "            kernel_regularizer=keras.regularizers.L2(),\n",
    "            kernel_initializer=keras.initializers.GlorotUniform(),\n",
    "            bias_initializer=keras.initializers.GlorotUniform(),\n",
    "            activation=keras.activations.softmax))\n",
    "    ])\n",
    "\n",
    "    freezing_layers = seq_model.layers[:len(seq_model.layers) - final_layers]\n",
    "    for layer in freezing_layers:\n",
    "        layer.trainable = False\n",
    "\n",
    "    return seq_model"
   ]
  },
  {
   "cell_type": "code",
   "execution_count": 126,
   "id": "618e5e7e-f14a-495b-8ce2-12c63efe6457",
   "metadata": {
    "colab": {
     "base_uri": "https://localhost:8080/"
    },
    "id": "618e5e7e-f14a-495b-8ce2-12c63efe6457",
    "outputId": "6763b022-ef9a-41b6-e10c-bfb71968d803"
   },
   "outputs": [],
   "source": [
    "model = build_model(keras.applications.NASNetMobile)"
   ]
  },
  {
   "cell_type": "code",
   "execution_count": 127,
   "id": "5586933f-b6db-476b-b149-8c683e856ded",
   "metadata": {
    "colab": {
     "base_uri": "https://localhost:8080/",
     "height": 305
    },
    "id": "5586933f-b6db-476b-b149-8c683e856ded",
    "outputId": "4dd10ca8-b67c-47ad-b431-84d321ecd752"
   },
   "outputs": [
    {
     "data": {
      "text/html": [
       "<pre style=\"white-space:pre;overflow-x:auto;line-height:normal;font-family:Menlo,'DejaVu Sans Mono',consolas,'Courier New',monospace\"><span style=\"font-weight: bold\">Model: \"sequential_21\"</span>\n",
       "</pre>\n"
      ],
      "text/plain": [
       "\u001b[1mModel: \"sequential_21\"\u001b[0m\n"
      ]
     },
     "metadata": {},
     "output_type": "display_data"
    },
    {
     "data": {
      "text/html": [
       "<pre style=\"white-space:pre;overflow-x:auto;line-height:normal;font-family:Menlo,'DejaVu Sans Mono',consolas,'Courier New',monospace\">┏━━━━━━━━━━━━━━━━━━━━━━━━━━━━━━━━━━━━━━┳━━━━━━━━━━━━━━━━━━━━━━━━━━━━━┳━━━━━━━━━━━━━━━━━┓\n",
       "┃<span style=\"font-weight: bold\"> Layer (type)                         </span>┃<span style=\"font-weight: bold\"> Output Shape                </span>┃<span style=\"font-weight: bold\">         Param # </span>┃\n",
       "┡━━━━━━━━━━━━━━━━━━━━━━━━━━━━━━━━━━━━━━╇━━━━━━━━━━━━━━━━━━━━━━━━━━━━━╇━━━━━━━━━━━━━━━━━┩\n",
       "│ rescaling_22 (<span style=\"color: #0087ff; text-decoration-color: #0087ff\">Rescaling</span>)             │ (<span style=\"color: #00d7ff; text-decoration-color: #00d7ff\">None</span>, <span style=\"color: #00af00; text-decoration-color: #00af00\">224</span>, <span style=\"color: #00af00; text-decoration-color: #00af00\">224</span>, <span style=\"color: #00af00; text-decoration-color: #00af00\">3</span>)         │               <span style=\"color: #00af00; text-decoration-color: #00af00\">0</span> │\n",
       "├──────────────────────────────────────┼─────────────────────────────┼─────────────────┤\n",
       "│ nasnet_mobile (<span style=\"color: #0087ff; text-decoration-color: #0087ff\">Functional</span>)           │ (<span style=\"color: #00d7ff; text-decoration-color: #00d7ff\">None</span>, <span style=\"color: #00af00; text-decoration-color: #00af00\">7</span>, <span style=\"color: #00af00; text-decoration-color: #00af00\">7</span>, <span style=\"color: #00af00; text-decoration-color: #00af00\">1056</span>)          │       <span style=\"color: #00af00; text-decoration-color: #00af00\">4,269,716</span> │\n",
       "├──────────────────────────────────────┼─────────────────────────────┼─────────────────┤\n",
       "│ global_average_pooling2d_19          │ (<span style=\"color: #00d7ff; text-decoration-color: #00d7ff\">None</span>, <span style=\"color: #00af00; text-decoration-color: #00af00\">1056</span>)                │               <span style=\"color: #00af00; text-decoration-color: #00af00\">0</span> │\n",
       "│ (<span style=\"color: #0087ff; text-decoration-color: #0087ff\">GlobalAveragePooling2D</span>)             │                             │                 │\n",
       "├──────────────────────────────────────┼─────────────────────────────┼─────────────────┤\n",
       "│ dropout_21 (<span style=\"color: #0087ff; text-decoration-color: #0087ff\">Dropout</span>)                 │ (<span style=\"color: #00d7ff; text-decoration-color: #00d7ff\">None</span>, <span style=\"color: #00af00; text-decoration-color: #00af00\">1056</span>)                │               <span style=\"color: #00af00; text-decoration-color: #00af00\">0</span> │\n",
       "├──────────────────────────────────────┼─────────────────────────────┼─────────────────┤\n",
       "│ dense_42 (<span style=\"color: #0087ff; text-decoration-color: #0087ff\">Dense</span>)                     │ (<span style=\"color: #00d7ff; text-decoration-color: #00d7ff\">None</span>, <span style=\"color: #00af00; text-decoration-color: #00af00\">10</span>)                  │          <span style=\"color: #00af00; text-decoration-color: #00af00\">10,570</span> │\n",
       "└──────────────────────────────────────┴─────────────────────────────┴─────────────────┘\n",
       "</pre>\n"
      ],
      "text/plain": [
       "┏━━━━━━━━━━━━━━━━━━━━━━━━━━━━━━━━━━━━━━┳━━━━━━━━━━━━━━━━━━━━━━━━━━━━━┳━━━━━━━━━━━━━━━━━┓\n",
       "┃\u001b[1m \u001b[0m\u001b[1mLayer (type)                        \u001b[0m\u001b[1m \u001b[0m┃\u001b[1m \u001b[0m\u001b[1mOutput Shape               \u001b[0m\u001b[1m \u001b[0m┃\u001b[1m \u001b[0m\u001b[1m        Param #\u001b[0m\u001b[1m \u001b[0m┃\n",
       "┡━━━━━━━━━━━━━━━━━━━━━━━━━━━━━━━━━━━━━━╇━━━━━━━━━━━━━━━━━━━━━━━━━━━━━╇━━━━━━━━━━━━━━━━━┩\n",
       "│ rescaling_22 (\u001b[38;5;33mRescaling\u001b[0m)             │ (\u001b[38;5;45mNone\u001b[0m, \u001b[38;5;34m224\u001b[0m, \u001b[38;5;34m224\u001b[0m, \u001b[38;5;34m3\u001b[0m)         │               \u001b[38;5;34m0\u001b[0m │\n",
       "├──────────────────────────────────────┼─────────────────────────────┼─────────────────┤\n",
       "│ nasnet_mobile (\u001b[38;5;33mFunctional\u001b[0m)           │ (\u001b[38;5;45mNone\u001b[0m, \u001b[38;5;34m7\u001b[0m, \u001b[38;5;34m7\u001b[0m, \u001b[38;5;34m1056\u001b[0m)          │       \u001b[38;5;34m4,269,716\u001b[0m │\n",
       "├──────────────────────────────────────┼─────────────────────────────┼─────────────────┤\n",
       "│ global_average_pooling2d_19          │ (\u001b[38;5;45mNone\u001b[0m, \u001b[38;5;34m1056\u001b[0m)                │               \u001b[38;5;34m0\u001b[0m │\n",
       "│ (\u001b[38;5;33mGlobalAveragePooling2D\u001b[0m)             │                             │                 │\n",
       "├──────────────────────────────────────┼─────────────────────────────┼─────────────────┤\n",
       "│ dropout_21 (\u001b[38;5;33mDropout\u001b[0m)                 │ (\u001b[38;5;45mNone\u001b[0m, \u001b[38;5;34m1056\u001b[0m)                │               \u001b[38;5;34m0\u001b[0m │\n",
       "├──────────────────────────────────────┼─────────────────────────────┼─────────────────┤\n",
       "│ dense_42 (\u001b[38;5;33mDense\u001b[0m)                     │ (\u001b[38;5;45mNone\u001b[0m, \u001b[38;5;34m10\u001b[0m)                  │          \u001b[38;5;34m10,570\u001b[0m │\n",
       "└──────────────────────────────────────┴─────────────────────────────┴─────────────────┘\n"
      ]
     },
     "metadata": {},
     "output_type": "display_data"
    },
    {
     "data": {
      "text/html": [
       "<pre style=\"white-space:pre;overflow-x:auto;line-height:normal;font-family:Menlo,'DejaVu Sans Mono',consolas,'Courier New',monospace\"><span style=\"font-weight: bold\"> Total params: </span><span style=\"color: #00af00; text-decoration-color: #00af00\">4,280,286</span> (16.33 MB)\n",
       "</pre>\n"
      ],
      "text/plain": [
       "\u001b[1m Total params: \u001b[0m\u001b[38;5;34m4,280,286\u001b[0m (16.33 MB)\n"
      ]
     },
     "metadata": {},
     "output_type": "display_data"
    },
    {
     "data": {
      "text/html": [
       "<pre style=\"white-space:pre;overflow-x:auto;line-height:normal;font-family:Menlo,'DejaVu Sans Mono',consolas,'Courier New',monospace\"><span style=\"font-weight: bold\"> Trainable params: </span><span style=\"color: #00af00; text-decoration-color: #00af00\">10,570</span> (41.29 KB)\n",
       "</pre>\n"
      ],
      "text/plain": [
       "\u001b[1m Trainable params: \u001b[0m\u001b[38;5;34m10,570\u001b[0m (41.29 KB)\n"
      ]
     },
     "metadata": {},
     "output_type": "display_data"
    },
    {
     "data": {
      "text/html": [
       "<pre style=\"white-space:pre;overflow-x:auto;line-height:normal;font-family:Menlo,'DejaVu Sans Mono',consolas,'Courier New',monospace\"><span style=\"font-weight: bold\"> Non-trainable params: </span><span style=\"color: #00af00; text-decoration-color: #00af00\">4,269,716</span> (16.29 MB)\n",
       "</pre>\n"
      ],
      "text/plain": [
       "\u001b[1m Non-trainable params: \u001b[0m\u001b[38;5;34m4,269,716\u001b[0m (16.29 MB)\n"
      ]
     },
     "metadata": {},
     "output_type": "display_data"
    }
   ],
   "source": [
    "model.summary()"
   ]
  },
  {
   "cell_type": "code",
   "execution_count": 128,
   "id": "c0da0db5-351f-41b0-8007-7d569827b125",
   "metadata": {
    "id": "c0da0db5-351f-41b0-8007-7d569827b125"
   },
   "outputs": [],
   "source": [
    "model.compile(\n",
    "    optimizer=keras.optimizers.Adam(),\n",
    "    loss=keras.losses.CategoricalCrossentropy(),\n",
    "    metrics=[\n",
    "        keras.metrics.CategoricalAccuracy()\n",
    "    ])"
   ]
  },
  {
   "cell_type": "markdown",
   "id": "0803aadc-cbfb-4f73-aeae-a8a046eff8da",
   "metadata": {
    "id": "0803aadc-cbfb-4f73-aeae-a8a046eff8da"
   },
   "source": [
    "# Addestramento del modello (transfer learning)"
   ]
  },
  {
   "cell_type": "code",
   "execution_count": null,
   "id": "0569ef36-1f5d-472a-b358-8535a193ac11",
   "metadata": {
    "colab": {
     "base_uri": "https://localhost:8080/"
    },
    "id": "0569ef36-1f5d-472a-b358-8535a193ac11",
    "outputId": "361c84ef-96bd-44c9-874d-5e3ee1af2234"
   },
   "outputs": [
    {
     "name": "stdout",
     "output_type": "stream",
     "text": [
      "Epoch 1/50\n"
     ]
    }
   ],
   "source": [
    "def lr_scheduler(epoch, lr):\n",
    "  if epoch < 2:\n",
    "    return lr\n",
    "\n",
    "  return lr * np.exp(-0.25)\n",
    "\n",
    "model.fit(\n",
    "    train_dataset,\n",
    "    validation_data=validation_dataset,\n",
    "    epochs=50,\n",
    "    callbacks=[\n",
    "        keras.callbacks.EarlyStopping(\n",
    "            start_from_epoch=3,\n",
    "            patience=3,\n",
    "            restore_best_weights=True),\n",
    "        keras.callbacks.LearningRateScheduler(\n",
    "            lr_scheduler\n",
    "        )])"
   ]
  },
  {
   "cell_type": "markdown",
   "id": "10c03e38-7b0a-4f9b-a932-ccb286920a5e",
   "metadata": {
    "id": "10c03e38-7b0a-4f9b-a932-ccb286920a5e"
   },
   "source": [
    "# Provare a fare predizioni"
   ]
  },
  {
   "cell_type": "code",
   "execution_count": null,
   "id": "ee974e30-0983-4ff8-aa25-21e0d630dc93",
   "metadata": {
    "id": "ee974e30-0983-4ff8-aa25-21e0d630dc93",
    "outputId": "fc51c69e-3b23-41f8-e1cf-814e07b73dde"
   },
   "outputs": [],
   "source": [
    "def predict_3x3_from_dataset(dataset, m):\n",
    "    d = {\n",
    "        0 : \"cane\",\n",
    "        1 : \"cavallo\",\n",
    "        2 : \"elefante\",\n",
    "        3 : \"farfalla\",\n",
    "        4 : \"gallina\",\n",
    "        5 : \"gatto\",\n",
    "        6 : \"mucca\",\n",
    "        7 : \"pecora\",\n",
    "        8 : \"ragno\",\n",
    "        9 : \"scoiattolo\"\n",
    "    }\n",
    "\n",
    "    shuffled_dataset = dataset.take(1).shuffle(buffer_size=10)\n",
    "    plt.figure(figsize=(10, 10))\n",
    "    for images, labels in shuffled_dataset:\n",
    "      for i in range(9):\n",
    "        ax = plt.subplot(3, 3, i + 1)\n",
    "        plt.imshow(images[i].numpy().astype(\"uint8\"))\n",
    "        resized = tf.image.resize([images[i]], (224,224))\n",
    "        inputs = tf.reshape(resized, (1, 224, 224, 3))\n",
    "        y = m.predict(inputs)\n",
    "        plt.title(d[np.argmax(y)])\n",
    "        plt.axis(\"off\")\n",
    "\n",
    "predict_3x3_from_dataset(validation_dataset, model)"
   ]
  },
  {
   "cell_type": "code",
   "execution_count": null,
   "id": "f54a870c-0f9f-4180-8527-ac44fe2b7275",
   "metadata": {
    "id": "f54a870c-0f9f-4180-8527-ac44fe2b7275"
   },
   "outputs": [],
   "source": []
  },
  {
   "cell_type": "code",
   "execution_count": null,
   "id": "e143d70b-082e-41b5-a876-28f3ef5a3975",
   "metadata": {
    "id": "e143d70b-082e-41b5-a876-28f3ef5a3975"
   },
   "outputs": [],
   "source": []
  }
 ],
 "metadata": {
  "accelerator": "GPU",
  "colab": {
   "gpuType": "T4",
   "provenance": []
  },
  "kernelspec": {
   "display_name": "Python 3 (ipykernel)",
   "language": "python",
   "name": "python3"
  },
  "language_info": {
   "codemirror_mode": {
    "name": "ipython",
    "version": 3
   },
   "file_extension": ".py",
   "mimetype": "text/x-python",
   "name": "python",
   "nbconvert_exporter": "python",
   "pygments_lexer": "ipython3",
   "version": "3.12.2"
  }
 },
 "nbformat": 4,
 "nbformat_minor": 5
}
