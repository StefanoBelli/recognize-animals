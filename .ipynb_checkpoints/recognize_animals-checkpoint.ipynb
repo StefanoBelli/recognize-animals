{
 "cells": [
  {
   "cell_type": "markdown",
   "id": "a6d10dbd-331a-4f42-b3d3-67e516ac6900",
   "metadata": {},
   "source": [
    "# Imports"
   ]
  },
  {
   "cell_type": "code",
   "execution_count": 9,
   "id": "df9294fa-115d-4dba-a341-8fc4ea54b769",
   "metadata": {},
   "outputs": [],
   "source": [
    "import os\n",
    "import zipfile\n",
    "import keras"
   ]
  },
  {
   "cell_type": "markdown",
   "id": "00062720-ead3-4c4a-a63d-56476a9f5a2d",
   "metadata": {},
   "source": [
    "# Estrazione del dataset"
   ]
  },
  {
   "cell_type": "code",
   "execution_count": 6,
   "id": "d9c5562d-8c33-4c18-866e-4b31b313fcc1",
   "metadata": {},
   "outputs": [],
   "source": [
    "DATASET_ZIP_PATH=\"animals.zip\"\n",
    "DATASET_IMGS_DESTDIR=\"./\"\n",
    "\n",
    "if not os.path.isdir(DATASET_IMGS_DESTDIR + \"animals\"):\n",
    "    if not os.path.isfile(DATASET_ZIP_PATH):\n",
    "        raise FileNotFoundError(f\" !! Unable to continue, could not find zipped dataset to extract dataset from: {DATASET_ZIP_PATH}\")\n",
    "\n",
    "    with zipfile.ZipFile(DATASET_ZIP_PATH, mode=\"r\") as animalz:\n",
    "        animalz.extractall(DATASET_IMGS_DESTDIR)"
   ]
  },
  {
   "cell_type": "markdown",
   "id": "82f0eb58-b08d-421f-b20a-252f620b000f",
   "metadata": {},
   "source": [
    "# Caricamento del dataset e split"
   ]
  },
  {
   "cell_type": "code",
   "execution_count": 7,
   "id": "7a9aa959-c7c4-463f-8e7d-feb5e44c17a8",
   "metadata": {},
   "outputs": [
    {
     "name": "stdout",
     "output_type": "stream",
     "text": [
      "Found 26128 files belonging to 10 classes.\n",
      "Using 22209 files for training.\n",
      "Using 3919 files for validation.\n"
     ]
    }
   ],
   "source": [
    "(training_set, testing_set) = keras.utils.image_dataset_from_directory(\n",
    "    DATASET_IMGS_DESTDIR + \"animals\",\n",
    "    subset=\"both\",\n",
    "    seed=1234,\n",
    "    validation_split=0.15,\n",
    "    image_size=(224,224),\n",
    "    label_mode=\"categorical\",\n",
    "    batch_size=32)"
   ]
  },
  {
   "cell_type": "code",
   "execution_count": 10,
   "id": "cad36faf-8bb2-4f92-83e4-2e828af6f788",
   "metadata": {},
   "outputs": [],
   "source": [
    "train_size = int(0.85 * len(training_set))\n",
    "val_size = int(0.15 * len(training_set))\n",
    "train_dataset = training_set.take(train_size)\n",
    "validation_dataset = training_set.skip(train_size).take(val_size)"
   ]
  },
  {
   "cell_type": "code",
   "execution_count": 12,
   "id": "577a036f-114f-419b-83f4-f0be57c341e2",
   "metadata": {},
   "outputs": [
    {
     "name": "stdout",
     "output_type": "stream",
     "text": [
      "Train batches: 590\n",
      "Validation batches: 104\n"
     ]
    }
   ],
   "source": [
    "print(\"Train batches:\", len(train_dataset))\n",
    "print(\"Validation batches:\", len(validation_dataset))"
   ]
  },
  {
   "cell_type": "markdown",
   "id": "4530534f-0e82-41d2-820e-e151fcfd40da",
   "metadata": {},
   "source": [
    "# Costruzione del modello"
   ]
  }
 ],
 "metadata": {
  "kernelspec": {
   "display_name": "Python 3 (ipykernel)",
   "language": "python",
   "name": "python3"
  },
  "language_info": {
   "codemirror_mode": {
    "name": "ipython",
    "version": 3
   },
   "file_extension": ".py",
   "mimetype": "text/x-python",
   "name": "python",
   "nbconvert_exporter": "python",
   "pygments_lexer": "ipython3",
   "version": "3.12.2"
  }
 },
 "nbformat": 4,
 "nbformat_minor": 5
}
